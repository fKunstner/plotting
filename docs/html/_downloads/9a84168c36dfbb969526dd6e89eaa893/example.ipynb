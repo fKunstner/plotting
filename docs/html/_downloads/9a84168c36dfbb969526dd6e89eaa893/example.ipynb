{
  "cells": [
    {
      "cell_type": "code",
      "execution_count": null,
      "metadata": {
        "collapsed": false
      },
      "outputs": [],
      "source": [
        "%matplotlib inline"
      ]
    },
    {
      "cell_type": "markdown",
      "metadata": {},
      "source": [
        "\nShowcase\n========================================\n"
      ]
    },
    {
      "cell_type": "code",
      "execution_count": null,
      "metadata": {
        "collapsed": false
      },
      "outputs": [],
      "source": [
        "import matplotlib.pyplot as plt\nimport numpy as np\nimport fplt\n\nimport warnings\n\nwarnings.filterwarnings(\n    \"ignore\",\n    category=UserWarning,\n    message=\"Matplotlib is currently using agg, which is a\"\n    \" non-GUI backend, so cannot show the figure.\",\n)"
      ]
    },
    {
      "cell_type": "markdown",
      "metadata": {},
      "source": [
        "Loading some data to plot\n\n"
      ]
    },
    {
      "cell_type": "code",
      "execution_count": null,
      "metadata": {
        "collapsed": false
      },
      "outputs": [],
      "source": [
        "np.random.seed(0)\ndata = {\n    \"x1\": list(range(100)),\n    \"y1\": [np.exp(-t) * (1 + np.random.randn() ** 2) for t in range(100)],\n    \"x2\": list(range(100)),\n    \"y2\": [1 / (t + 1) * (1 + 5 * np.random.randn() ** 2) for t in range(100)],\n}"
      ]
    },
    {
      "cell_type": "markdown",
      "metadata": {},
      "source": [
        "Preparing the figure and make a grid\n\n"
      ]
    },
    {
      "cell_type": "code",
      "execution_count": null,
      "metadata": {
        "collapsed": false
      },
      "outputs": [],
      "source": [
        "fig = plt.figure(figsize=(8, 3))\nax1, ax2 = fplt.make_grid(fig, nrows=1, ncols=2)\n\nplt.show()"
      ]
    },
    {
      "cell_type": "markdown",
      "metadata": {},
      "source": [
        "Adding the data\n\n"
      ]
    },
    {
      "cell_type": "code",
      "execution_count": null,
      "metadata": {
        "collapsed": false
      },
      "outputs": [],
      "source": [
        "fig = plt.figure(figsize=(8, 3))\nax1, ax2 = fplt.make_grid(fig, nrows=1, ncols=2)\n\n(lh1,) = ax1.plot(data[\"x1\"], data[\"y1\"])\n(lh2,) = ax2.plot(data[\"x2\"], data[\"y2\"])\n\nplt.show()"
      ]
    },
    {
      "cell_type": "markdown",
      "metadata": {},
      "source": [
        "Adding some color and line style\n\n"
      ]
    },
    {
      "cell_type": "code",
      "execution_count": null,
      "metadata": {
        "collapsed": false
      },
      "outputs": [],
      "source": [
        "fig = plt.figure(figsize=(8, 3))\nax1, ax2 = fplt.make_grid(fig, nrows=1, ncols=2)\n\nstyle = {\"linestyle\": \"-\", \"linewidth\": 2}\nblue = fplt.COLORS[\"PT\"][\"VB\"][\"blue\"]\nred = fplt.COLORS[\"PT\"][\"VB\"][\"red\"]\n\n(lh1,) = ax1.plot(data[\"x1\"], data[\"y1\"], color=red, **style)\n(lh2,) = ax2.plot(data[\"x2\"], data[\"y2\"], color=blue, **style)\n\nplt.show()"
      ]
    },
    {
      "cell_type": "markdown",
      "metadata": {},
      "source": [
        "Removing the frame\n\n"
      ]
    },
    {
      "cell_type": "code",
      "execution_count": null,
      "metadata": {
        "collapsed": false
      },
      "outputs": [],
      "source": [
        "fig = plt.figure(figsize=(8, 3))\nax1, ax2 = fplt.make_grid(fig, nrows=1, ncols=2)\n\nstyle = {\"linestyle\": \"-\", \"linewidth\": 2}\n\n(lh1,) = ax1.plot(data[\"x1\"], data[\"y1\"], color=red, **style)\n(lh2,) = ax2.plot(data[\"x2\"], data[\"y2\"], color=blue, **style)\n\nfplt.hide_frame(ax1, ax2, left=False, bottom=False, top=True, right=True)\n\nplt.show()"
      ]
    },
    {
      "cell_type": "markdown",
      "metadata": {},
      "source": [
        "Normalizing the y limits\n\n"
      ]
    },
    {
      "cell_type": "code",
      "execution_count": null,
      "metadata": {
        "collapsed": false
      },
      "outputs": [],
      "source": [
        "fig = plt.figure(figsize=(8, 3))\nax1, ax2 = fplt.make_grid(fig, nrows=1, ncols=2)\n\nstyle = {\"linestyle\": \"-\", \"linewidth\": 2}\n\n(lh1,) = ax1.plot(data[\"x1\"], data[\"y1\"], color=red, **style)\n(lh2,) = ax2.plot(data[\"x2\"], data[\"y2\"], color=blue, **style)\n\nfplt.hide_frame(ax1, ax2, left=False, bottom=False, top=True, right=True)\nfplt.normalize_y_axis(ax1, ax2)\n\nplt.show()"
      ]
    },
    {
      "cell_type": "markdown",
      "metadata": {},
      "source": [
        "On the same plot in log scale\n\n"
      ]
    },
    {
      "cell_type": "code",
      "execution_count": null,
      "metadata": {
        "collapsed": false
      },
      "outputs": [],
      "source": [
        "fig = plt.figure(figsize=(4, 3))\nax = fig.add_subplot(1, 1, 1)\n\nstyle = {\"linestyle\": \"-\", \"linewidth\": 2}\n\n(lh1,) = ax.plot(data[\"x1\"], data[\"y1\"], color=red, **style, label=\"Linear\")\n(lh2,) = ax.plot(data[\"x2\"], data[\"y2\"], color=blue, **style, label=\"Sublinear\")\n\nfplt.hide_frame(ax, left=False, bottom=False, top=True, right=True)\nax.set_yscale(\"log\")\n\nfplt.labelLine(lh1, x=70, align=False, manual_rotation=-40)\nfplt.labelLine(lh2, x=70, align=False, manual_rotation=0)\n\nplt.show()"
      ]
    }
  ],
  "metadata": {
    "kernelspec": {
      "display_name": "Python 3",
      "language": "python",
      "name": "python3"
    },
    "language_info": {
      "codemirror_mode": {
        "name": "ipython",
        "version": 3
      },
      "file_extension": ".py",
      "mimetype": "text/x-python",
      "name": "python",
      "nbconvert_exporter": "python",
      "pygments_lexer": "ipython3",
      "version": "3.7.3"
    }
  },
  "nbformat": 4,
  "nbformat_minor": 0
}